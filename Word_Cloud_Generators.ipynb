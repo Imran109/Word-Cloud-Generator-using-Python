{
  "nbformat": 4,
  "nbformat_minor": 0,
  "metadata": {
    "colab": {
      "name": "Untitled5.ipynb",
      "provenance": []
    },
    "kernelspec": {
      "name": "python3",
      "display_name": "Python 3"
    }
  },
  "cells": [
    {
      "cell_type": "markdown",
      "metadata": {
        "id": "eGImIMr8qHzs",
        "colab_type": "text"
      },
      "source": [
        "**WORD CLOUD**\n",
        "A word cloud is an image made of words that together resemble a cloudy shape. The size of a word shows how important it is e.g. how often it appears in a text — its frequency.\n",
        "\n",
        "People typically use word clouds to easily produce a summary of large documents (reports, speeches), to create art on a topic (gifts, displays) or to visualise data (tables, surveys)."
      ]
    },
    {
      "cell_type": "code",
      "metadata": {
        "id": "T2q5WK_npKtF",
        "colab_type": "code",
        "colab": {}
      },
      "source": [
        "# Here are all the installs and imports we will need for the word cloud script and uploader widget\n",
        "\n",
        "pip install wordcloud\n",
        "pip install fileupload\n",
        "pip install ipywidgets\n",
        "jupyter nbextension install --py --user fileupload\n",
        "jupyter nbextension enable --py fileupload\n",
        "\n",
        "import wordcloud\n",
        "import numpy as np\n",
        "from matplotlib import pyplot as plt\n",
        "from IPython.display import display\n",
        "import fileupload\n",
        "import io\n",
        "import sys"
      ],
      "execution_count": 1,
      "outputs": []
    },
    {
      "cell_type": "code",
      "metadata": {
        "id": "ZPKd3xuQpRt7",
        "colab_type": "code",
        "colab": {}
      },
      "source": [
        "# This is the uploader widget\n",
        "# Here is where we will browse and upload the text file that contains the texts for our wordcloud\n",
        "\n",
        "def _upload():\n",
        "\n",
        "    _upload_widget = fileupload.FileUploadWidget()\n",
        "\n",
        "    def _cb(change):\n",
        "        global file_contents\n",
        "        decoded = io.StringIO(change['owner'].data.decode('utf-8'))\n",
        "        filename = change['owner'].filename\n",
        "        print('Uploaded `{}` ({:.2f} kB)'.format(\n",
        "            filename, len(decoded.read()) / 2 **10))\n",
        "        file_contents = decoded.getvalue()\n",
        "\n",
        "    _upload_widget.observe(_cb, names='data')\n",
        "    display(_upload_widget)\n",
        "\n",
        "_upload()"
      ],
      "execution_count": 2,
      "outputs": []
    },
    {
      "cell_type": "code",
      "metadata": {
        "id": "E9TKMc0wpfqp",
        "colab_type": "code",
        "colab": {}
      },
      "source": [
        "def calculate_frequencies(file_contents):\n",
        "    # Here is a list of punctuations and uninteresting words we can use to process our text\n",
        "    punctuations = '''!()-[]{};:'\"\\,<>./?@#$%^&*_~'''\n",
        "    uninteresting_words = [\"the\", \"a\", \"to\", \"if\", \"is\", \"it\", \"of\", \"and\", \"or\", \"an\", \"as\", \"i\", \"me\", \"my\", \\\n",
        "    \"we\", \"our\", \"ours\", \"you\", \"your\", \"yours\", \"he\", \"she\", \"him\", \"his\", \"her\", \"hers\", \"its\", \"they\", \"them\", \\\n",
        "    \"their\", \"what\", \"which\", \"who\", \"whom\", \"this\", \"that\", \"am\", \"are\", \"was\", \"were\", \"be\", \"been\", \"being\", \\\n",
        "    \"have\", \"has\", \"had\", \"do\", \"does\", \"did\", \"but\", \"at\", \"by\", \"with\", \"from\", \"here\", \"when\", \"where\", \"how\", \\\n",
        "    \"all\", \"any\", \"both\", \"each\", \"few\", \"more\", \"some\", \"such\", \"no\", \"nor\", \"too\", \"very\", \"can\", \"will\", \"just\" , \"in\" , \"on\"]\n",
        "    \n",
        "    new_content = \"\"\n",
        "    frequencies = {}\n",
        "    for ch in file_contents:\n",
        "        if ch not in punctuations:\n",
        "            new_content += ch\n",
        "    temp_file = new_content.split(\" \")\n",
        "    while \"\" in temp_file:\n",
        "        temp_file.remove(\"\")\n",
        "    for word in temp_file:\n",
        "        if word.lower() not in uninteresting_words:\n",
        "            if word in frequencies:\n",
        "                frequencies[word] +=1\n",
        "            else:\n",
        "                frequencies[word] = 1\n",
        "    #wordcloud\n",
        "    cloud = wordcloud.WordCloud()\n",
        "    cloud.generate_from_frequencies(frequencies)\n",
        "    return cloud.to_array()"
      ],
      "execution_count": 3,
      "outputs": []
    },
    {
      "cell_type": "code",
      "metadata": {
        "id": "2w0d_oklpoGr",
        "colab_type": "code",
        "colab": {}
      },
      "source": [
        "myimage = calculate_frequencies(file_contents)\n",
        "plt.figure(figsize = (12,8))\n",
        "plt.imshow(myimage, interpolation = 'nearest')\n",
        "plt.axis('off')\n",
        "plt.show()"
      ],
      "execution_count": 4,
      "outputs": []
    },
    {
      "cell_type": "markdown",
      "metadata": {
        "id": "3RGBz4YFqVXr",
        "colab_type": "text"
      },
      "source": [
        "![Image](https://drive.google.com/uc?id=1H_HSIMtofuvyKdu03VJQDbk-N7t5rr7e)\n"
      ]
    }
  ]
}
